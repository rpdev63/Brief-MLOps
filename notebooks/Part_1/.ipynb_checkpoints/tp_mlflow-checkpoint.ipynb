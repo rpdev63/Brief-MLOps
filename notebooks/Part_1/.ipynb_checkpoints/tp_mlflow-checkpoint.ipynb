{
 "cells": [
  {
   "cell_type": "markdown",
   "metadata": {},
   "source": [
    "# Formation ML Flow"
   ]
  },
  {
   "cell_type": "markdown",
   "metadata": {},
   "source": [
    "L'objectif de cette formation est de vous apprendre à utiliser ML Flow   \n",
    "MLflow est un dashboard pour expériences de Machine Learning.  \n",
    "Ce tp permet pas à pas comment lancer une expérience de Machine Learning et surveiller les paramètres, métriques et resultats de votre expérience grâce à ML Flow.\n",
    "\n",
    "Nous allons mettre en place plkusieurs modèles et découvrir MLflow"
   ]
  },
  {
   "cell_type": "markdown",
   "metadata": {},
   "source": [
    "### import des librairies"
   ]
  },
  {
   "cell_type": "code",
   "execution_count": null,
   "metadata": {},
   "outputs": [],
   "source": [
    "import mlflow, math, time\n",
    "import numpy as np \n",
    "import matplotlib.pyplot as plt \n",
    "import pandas as pd \n",
    "import seaborn as sns\n",
    "\n",
    "from sklearn import datasets\n",
    "from sklearn.dummy import DummyClassifier\n",
    "from sklearn.metrics import confusion_matrix, accuracy_score, precision_score, recall_score, mean_squared_error\n",
    "from sklearn.model_selection import train_test_split\n",
    "from sklearn.linear_model import LogisticRegression\n",
    "from sklearn.tree import DecisionTreeClassifier\n",
    "from sklearn.neighbors import KNeighborsClassifier\n",
    "from sklearn.discriminant_analysis import LinearDiscriminantAnalysis\n",
    "from sklearn.naive_bayes import GaussianNB\n",
    "from sklearn.svm import SVC\n",
    "from sklearn.neural_network import MLPClassifier"
   ]
  },
  {
   "cell_type": "markdown",
   "metadata": {},
   "source": [
    "# 1. Ouverture et visualisation du dataset Iris"
   ]
  },
  {
   "cell_type": "code",
   "execution_count": null,
   "metadata": {},
   "outputs": [],
   "source": [
    "# permet d'avoir accès au dataset une fois qu'il sera chargé\n",
    "dataset_columns = ['sepal length', 'sepal width', 'petal length', 'petal width']\n",
    "\n",
    "try: \n",
    "    dataset = pd.read_csv('iris.csv')\n",
    "except FileNotFoundError:\n",
    "    iris_data = datasets.load_iris(as_frame=True)\n",
    "    dataset = iris_data.get('data')\n",
    "    dataset.columns = columns=dataset_columns\n",
    "    dataset[\"target\"] = iris_data.get('target')\n",
    "    dataset['target'] = dataset['target'].replace(dataset['target'].unique().tolist(), iris_data.get('target_names'))\n",
    "    dataset.to_csv('iris.csv', index=False)\n",
    "dataset.head()"
   ]
  },
  {
   "cell_type": "code",
   "execution_count": null,
   "metadata": {},
   "outputs": [],
   "source": [
    "# affichons en une simple ligne de code les caractéristiques des colonnes numériques\n",
    "\n",
    "#Code ici"
   ]
  },
  {
   "cell_type": "code",
   "execution_count": null,
   "metadata": {},
   "outputs": [],
   "source": [
    "# Verifions que les données soient bien homogènes (2 méthodes)\n",
    "\n",
    "# Code ici"
   ]
  },
  {
   "cell_type": "markdown",
   "metadata": {},
   "source": [
    "Affichons maintenant le nuage de points de chaque paire de caractéristiques. Sur la diagonale, on retrouve un histogramme du nombre d'échantillons selon la valeur de la caractéristique. On peut remarquer certaines structures, par exemple des groupes, dans les relations entre certaines caractéristiques."
   ]
  },
  {
   "cell_type": "code",
   "execution_count": null,
   "metadata": {},
   "outputs": [],
   "source": [
    "# tout groupe confondu, affichez le nuage de point par paire de variable et en diagonale l'histogramme de la variable \n",
    "pd.plotting.scatter_matrix(dataset,figsize=(12,8))\n",
    "plt.suptitle('Scatter matrix of the Iris dataset')\n",
    "plt.show()"
   ]
  },
  {
   "cell_type": "code",
   "execution_count": null,
   "metadata": {},
   "outputs": [],
   "source": [
    "#essayons avec seaborn, et mettons une couleur par classe\n",
    "\n",
    "#Code ici"
   ]
  },
  {
   "cell_type": "markdown",
   "metadata": {},
   "source": [
    "On remarque des corrélations avec certaines caractéristiques"
   ]
  },
  {
   "cell_type": "markdown",
   "metadata": {},
   "source": [
    "# 2. ML Flow : premiers pas avec un modèle aléatoire"
   ]
  },
  {
   "cell_type": "markdown",
   "metadata": {},
   "source": [
    "Pour un premier exemple prenons une classification 'simple' : le modèle aléatoire. Ce modèle attribuera aléatoirement une classe à chaque échantillon du dataset. \n",
    "\n",
    "Séparons le dataset en deux X, nos features et Y notre class des iris\n"
   ]
  },
  {
   "cell_type": "code",
   "execution_count": null,
   "metadata": {},
   "outputs": [],
   "source": [
    "X = dataset.loc[:,dataset_columns].values\n",
    "Y = dataset.target.values"
   ]
  },
  {
   "cell_type": "code",
   "execution_count": null,
   "metadata": {},
   "outputs": [],
   "source": [
    "#Construisons notre modèle aléatoire :\n",
    "dummy = DummyClassifier(strategy=\"uniform\")\n",
    "dummy.fit(X, Y)"
   ]
  },
  {
   "cell_type": "markdown",
   "metadata": {},
   "source": [
    "Affichons ses prédictions pour les premiers échantillons :"
   ]
  },
  {
   "cell_type": "code",
   "execution_count": null,
   "metadata": {},
   "outputs": [],
   "source": [
    "Y_pred = dummy.predict(X)\n",
    "for i in range(5):\n",
    "    print(X[i], ', vraie classe : ', Y[i], ', prédiction : ', Y_pred[i])"
   ]
  },
  {
   "cell_type": "markdown",
   "metadata": {},
   "source": [
    "Je vous laisse imagienr la qualité du modèle sachant qu'il prédit ce qu'il apprend ..."
   ]
  },
  {
   "cell_type": "markdown",
   "metadata": {},
   "source": [
    "C'est maintenant que MLflow rentre en jeu, enregistrons les performances du modèle  \n",
    "Histoire de ne pas avoir d'erreur créons un fichier `iris.txt`"
   ]
  },
  {
   "cell_type": "code",
   "execution_count": null,
   "metadata": {},
   "outputs": [],
   "source": [
    "!touch iris.txt"
   ]
  },
  {
   "cell_type": "code",
   "execution_count": null,
   "metadata": {},
   "outputs": [],
   "source": [
    "with mlflow.start_run(run_name='Modele_Aleatoire'):\n",
    "    mlflow.log_param('Je teste mon modèle', 'DummyClassifier')\n",
    "    mlflow.log_metric('Accuracy', accuracy_score(Y, Y_pred))\n",
    "    mlflow.log_artifact('iris.txt')"
   ]
  },
  {
   "cell_type": "code",
   "execution_count": null,
   "metadata": {},
   "outputs": [],
   "source": [
    "with mlflow.start_run(run_name='Modele_Aleatoire avec csv'):\n",
    "    mlflow.log_param('Je teste mon modèle', 'DummyClassifier')\n",
    "    mlflow.log_metric('Accuracy', accuracy_score(Y, Y_pred))\n",
    "    mlflow.log_artifact('iris.csv')"
   ]
  },
  {
   "cell_type": "markdown",
   "metadata": {},
   "source": [
    "ici on a remplacé le fichier vide `iris.txt` par `iris.csv`"
   ]
  },
  {
   "cell_type": "markdown",
   "metadata": {},
   "source": [
    "Si jamais vous avez supprimé votre dossier `mlruns` relancez le notebook"
   ]
  },
  {
   "cell_type": "markdown",
   "metadata": {},
   "source": [
    "PAUSE ! c'est là ou ça devient intéressant, vous venez de créer un nouveau dossier `mlruns`, il est nécessaire pour la suite des évènements"
   ]
  },
  {
   "cell_type": "markdown",
   "metadata": {},
   "source": [
    "\n",
    "\n",
    "Toujours dans le dossier formation-mlflow, entrez la commande mlflow ui. Le message Serving on http://XXXXXXX:5000 devrait s'afficher. Ouvrez maintenant un navigateur web et ouvrez une fenêtre vers l'url http://localhost:5000/"
   ]
  },
  {
   "cell_type": "code",
   "execution_count": null,
   "metadata": {},
   "outputs": [],
   "source": [
    "!mlflow ui"
   ]
  },
  {
   "cell_type": "markdown",
   "metadata": {},
   "source": [
    "Ca y est les resultats sont visibles sur l'interface ! discutons en un peu\n",
    "\n",
    "ML Flow permet d'enregistrer puis visualiser 4 types de choses :\n",
    "\n",
    "des paramètres : ce sont des valeurs (int, float, string, ...) qui ne varient pas au cours d'un 'run', ici `MODEL_NAME` ou encore `je teste mon modèle` est un paramètre   \n",
    "\n",
    "des métriques : ce sont des valeurs numériques qui peuvent varier au cours du 'run', ici Accuracy est une métrique   \n",
    "\n",
    "des fichiers : ces fichiers peuvent prendre n'importe quelle forme (png, jpeg, gif, txt, ...) et ne sont pas modifiables au cours du 'run. Ici nous avons fait une copie du fichier iris.csv et de iris.txt   \n",
    "\n",
    "Toutes ces variables sont regroupées dans un même 'run', ici nommé `Modele_Aleatoire` ou `modele aleatoire avec csv`. Un 'run' correspond à une ligne du tableau. Les 'runs' peuvent être regroupés en 'experiences', ici nommée Default dans la colonne de gauche. Nous verons comment changer le nom de l'expérience par la suite  "
   ]
  },
  {
   "cell_type": "code",
   "execution_count": null,
   "metadata": {},
   "outputs": [],
   "source": [
    "# 1. Création du 'run' ML FLow, nommé ici 'Modele_Aleatoire'\n",
    "#    un run est inclus dans une expérience\n",
    "with mlflow.start_run(run_name='Modele_Aleatoire'):\n",
    "\n",
    "    # 2. Enregistrement d'un paramètre, c'est par exemple le nom de notre modèle testé, les fameux 'final1', 'final_final'\n",
    "    mlflow.log_param('MODEL_NAME', 'DummyClassifier')\n",
    "\n",
    "    # 3. Enregistrement d'une métrique, pour qu'on n'ait plus besoin de l'ecrire sur un cahier ou sur excel\n",
    "    mlflow.log_metric('Accuracy', accuracy_score(Y, Y_pred))\n",
    "\n",
    "    # 4. Enregistrement d'un fichier, c'est notre artefact, ce qui permet aussi le reproductibilité\n",
    "    mlflow.log_artifact('iris.csv')"
   ]
  },
  {
   "cell_type": "markdown",
   "metadata": {},
   "source": [
    "## Exercice d'application  "
   ]
  },
  {
   "cell_type": "markdown",
   "metadata": {},
   "source": [
    "petal width est une variable très discriminante pour classifier"
   ]
  },
  {
   "cell_type": "code",
   "execution_count": null,
   "metadata": {},
   "outputs": [],
   "source": [
    "sns.histplot(dataset, x='petal width', y='target')"
   ]
  },
  {
   "cell_type": "markdown",
   "metadata": {},
   "source": [
    "Nous allons donc essayer de coder notre propre modèle de classification selon cette spécificité et enregistrer ses performances avec ML FLow.\n",
    "\n",
    "Pour cela, commencez par coder une fonction qui :\n",
    "\n",
    "prend en entrée une liste d'échantillons  \n",
    "retourne la liste des classes des échantillons  \n",
    "afin de retourner la classe de façon automatisée crée un quantile à 0.33 et un à 0.66, les classes seront dans l'ordre suivant :  \n",
    "- setosa, versicolor, virginica "
   ]
  },
  {
   "cell_type": "code",
   "execution_count": null,
   "metadata": {},
   "outputs": [],
   "source": [
    "def simple_classification_model(list_samples):\n",
    "    \"\"\"\n",
    "    list_sample represente l'ensemble des feature\n",
    "    quantile est une liste comme celle ci : [elem1, elem2] \n",
    "    \"\"\"\n",
    "    #Code ici\n",
    "    return petal_width_class"
   ]
  },
  {
   "cell_type": "markdown",
   "metadata": {},
   "source": [
    "Vérifions ici que notre modele fonctionne sur quelques échantillons :"
   ]
  },
  {
   "cell_type": "code",
   "execution_count": null,
   "metadata": {},
   "outputs": [],
   "source": [
    "Y_pred_cond = simple_classification_model(X)\n",
    "for i in range(5):\n",
    "    print(X[i], ', vraie classe : ', Y[i], ', prédiction : ', Y_pred_cond[i])"
   ]
  },
  {
   "cell_type": "markdown",
   "metadata": {},
   "source": [
    "utilisons à nouveau MLflow"
   ]
  },
  {
   "cell_type": "code",
   "execution_count": null,
   "metadata": {},
   "outputs": [],
   "source": [
    "#Code ici"
   ]
  },
  {
   "cell_type": "markdown",
   "metadata": {},
   "source": [
    "# 3. ML Flow : Comparaison de plusieurs modèles"
   ]
  },
  {
   "cell_type": "markdown",
   "metadata": {},
   "source": [
    "C'est là ou MLflow devient très intéressant ! il permet de centraliser les experiences afin d'améliorer les comparaisons.  \n",
    "nous allons créer plusieurs modèles très simples, pour se faire séparons notre dataset "
   ]
  },
  {
   "cell_type": "code",
   "execution_count": null,
   "metadata": {},
   "outputs": [],
   "source": [
    "random_seed = 1\n",
    "X_train, X_val, Y_train, Y_val = train_test_split(X, Y, test_size=0.20, random_state=random_seed)"
   ]
  },
  {
   "cell_type": "markdown",
   "metadata": {},
   "source": [
    "Construisons la liste des modèles à tester :"
   ]
  },
  {
   "cell_type": "code",
   "execution_count": null,
   "metadata": {},
   "outputs": [],
   "source": [
    "models = []\n",
    "models.append(('LogisticRegression', LogisticRegression(solver='liblinear', multi_class='ovr')))\n",
    "models.append(('LinearDiscriminantAnalysis', LinearDiscriminantAnalysis()))\n",
    "models.append(('KNeighborsClassifier', KNeighborsClassifier()))\n",
    "models.append(('DecisionTreeClassifier', DecisionTreeClassifier()))\n",
    "models.append(('GaussianNB', GaussianNB()))\n",
    "models.append(('SVM', SVC(gamma='auto')))"
   ]
  },
  {
   "cell_type": "markdown",
   "metadata": {},
   "source": [
    "Ajoutons cette fonction qui va nous permettre de tracer de jolies matrices de confusion par la suite :"
   ]
  },
  {
   "cell_type": "code",
   "execution_count": null,
   "metadata": {},
   "outputs": [],
   "source": [
    "def plot_confusion_matrix(cm, target_names, title, \n",
    "                          normalize=True, save_path='matrix.png'):\n",
    "    import itertools\n",
    "    accuracy = np.trace(cm) / float(np.sum(cm))\n",
    "    misclass = 1 - accuracy\n",
    "    if normalize: cm = cm.astype('float') / cm.sum(axis=1)[:, np.newaxis]\n",
    "\n",
    "    cmap = plt.get_cmap('Blues')\n",
    "    plt.figure(figsize=(5,5))\n",
    "    plt.imshow(cm, interpolation='nearest', cmap=cmap, vmin=0, vmax=1)\n",
    "    plt.title(title)\n",
    "    plt.colorbar()\n",
    "    tick_marks = np.arange(len(target_names))\n",
    "    plt.xticks(tick_marks, target_names, rotation=45)\n",
    "    plt.yticks(tick_marks, target_names)\n",
    "\n",
    "    thresh = cm.max() / 1.5 if normalize else cm.max() / 2\n",
    "    for i, j in itertools.product(range(cm.shape[0]), range(cm.shape[1])):\n",
    "        if normalize:\n",
    "            plt.text(j, i, \"{:0.4f}\".format(cm[i, j]),\n",
    "                     horizontalalignment=\"center\",\n",
    "                     color=\"white\" if cm[i, j] > thresh else \"black\")\n",
    "        else:\n",
    "            plt.text(j, i, \"{:,}\".format(cm[i, j]),\n",
    "                     horizontalalignment=\"center\",\n",
    "                     color=\"white\" if cm[i, j] > thresh else \"black\")\n",
    "\n",
    "    plt.tight_layout()\n",
    "    plt.ylabel('True label')\n",
    "    plt.xlabel('Predicted label\\naccuracy={:0.4f}; misclass={:0.4f}'\\\n",
    "               .format(accuracy, misclass))\n",
    "    plt.gcf().canvas.draw()\n",
    "    plt.savefig(save_path)\n",
    "    plt.close()"
   ]
  },
  {
   "cell_type": "markdown",
   "metadata": {},
   "source": [
    "Nous allons maintenant entraîner nos modèles et enregistrer leurs paramètres et métriques avec ML Flow.\n",
    "\n",
    "Nous allons voir deux nouvelles choses :\n",
    "\n",
    "Comment créer une nouvelle expérience\n",
    "Comment enregistrer plusieurs paramètres ou métriques d'un seul coup"
   ]
  },
  {
   "cell_type": "code",
   "execution_count": null,
   "metadata": {},
   "outputs": [],
   "source": [
    "# avant cela nous allons reconstruire le dataset pour savoir le train et le test\n",
    "def artifact_df(X_training, Y_training, X_valid, Y_valid):\n",
    "    df_train = pd.DataFrame(X_training, columns=dataset_columns)\n",
    "    df_train['target'] = Y_training\n",
    "    df_train.to_csv('train_data.csv')\n",
    "\n",
    "    df_val = pd.DataFrame(X_valid, columns=dataset_columns)\n",
    "    df_val['target'] = Y_valid\n",
    "    df_val.to_csv('validation_data.csv')\n",
    "\n",
    "    return None"
   ]
  },
  {
   "cell_type": "code",
   "execution_count": null,
   "metadata": {},
   "outputs": [],
   "source": [
    "# 1. Création d'une nouvelle expérience\n",
    "#    Tous les nouveaux runs seront enregistrés dans cette expérience\n",
    "mlflow.set_experiment('Compare_models')\n",
    "\n",
    "for name, model in models:\n",
    "    print(name)\n",
    "\n",
    "    # 2. Création et début d'un nouveau run\n",
    "    with mlflow.start_run(run_name=name):\n",
    "\n",
    "        # 3. Enregistrement de plusieurs paramètres sous forme d'un dictionnaire\n",
    "        params = {}\n",
    "        params['MODEL_NAME'] = name\n",
    "        params['TRAIN_SIZE'] = len(X_train)\n",
    "        params['TEST_SIZE'] = len(X_val)\n",
    "        params['SEED'] = random_seed\n",
    "        mlflow.log_params(params)\n",
    "\n",
    "        # On note le moment du début de l'expérience pour mesurer la durée de l'entraînement\n",
    "        start = time.time()\n",
    "\n",
    "        # Entraînement du modèle\n",
    "        model.fit(X_train, Y_train)\n",
    "\n",
    "        training_time = time.time() - start\n",
    "\n",
    "        predictions = model.predict(X_val)\n",
    "\n",
    "        # 4. Enregistrement de plusieurs métriques sous forme d'un dictionnaire\n",
    "        metrics = {}\n",
    "        metrics['Accuracy'] = accuracy_score(Y_val, predictions)\n",
    "        metrics['Precision'] = precision_score(Y_val, predictions, average='macro')\n",
    "        metrics['Recall'] = recall_score(Y_val, predictions, average='macro')\n",
    "        metrics['Training Time'] = training_time\n",
    "        mlflow.log_metrics(metrics)\n",
    "\n",
    "        # 5. Enregistrement de la matrice de confusion\n",
    "        cm = confusion_matrix(Y_val, predictions)\n",
    "        plot_confusion_matrix(cm, ['Iris-setosa', 'Iris-versicolor', 'Iris-virginica'],\n",
    "                              'Confusion matrix '+name)\n",
    "        mlflow.log_artifact('matrix.png')\n",
    "        artifact_df(X_train, Y_train, X_val, Y_val)\n",
    "        mlflow.log_artifact('train_data.csv')\n",
    "        mlflow.log_artifact('validation_data.csv')"
   ]
  },
  {
   "cell_type": "markdown",
   "metadata": {},
   "source": [
    "Dans la partie gauche de l'UI vous trouverez 2 experiences differentes, selectionnez `Compare_models` et pour chaque run vous aurez la matrice de confusion et le train, test associé"
   ]
  },
  {
   "cell_type": "markdown",
   "metadata": {},
   "source": [
    "# Exercice d'application"
   ]
  },
  {
   "cell_type": "markdown",
   "metadata": {},
   "source": [
    "utilisez la fonction qui classifie de façon conditionnelle les iris dans l'experience crée juste avant  "
   ]
  },
  {
   "cell_type": "code",
   "execution_count": null,
   "metadata": {},
   "outputs": [],
   "source": [
    "mlflow.set_experiment('Compare_models')\n",
    "\n",
    "with mlflow.start_run(run_name='My_Conditional_Model'):\n",
    "\n",
    "    #Code ici"
   ]
  },
  {
   "cell_type": "markdown",
   "metadata": {},
   "source": [
    "# 4. ML Flow : Enregistrer l'évolution d'une métrique"
   ]
  },
  {
   "cell_type": "markdown",
   "metadata": {},
   "source": [
    "Dans cette dernière partie, nous allons voir comment enregistrer l'évolution d'une métrique au cours du temps. Pour cela, nous allons utiliser comme modèle un réseau de neurones basique : le perceptron multi-couches.\n",
    "\n",
    "Afin de calculer nos métriques au cours de l'entrainement, nous decoupons celui-ci en plusieurs epochs. A chaque epoch, le reseau de neurone s'entraîne une fois sur l'intégralité du dataset. Tout ceci est fait automatiquement dans la fonction fit par défaut de scikit learn, mais nous allons faire les choses manuellement ici, pour visualiser l'évolution des métriques au cours de l'apprentissage."
   ]
  },
  {
   "cell_type": "code",
   "execution_count": null,
   "metadata": {},
   "outputs": [],
   "source": [
    "# 1. Création et début d'un nouveau run\n",
    "with mlflow.start_run(run_name='Multilayer Perceptron'):\n",
    "\n",
    "    model = MLPClassifier(max_iter=10)\n",
    "    mlflow.log_param('MODEL_NAME', 'MLPClassifier')\n",
    "\n",
    "    N_TRAIN_SAMPLES = X_train.shape[0]\n",
    "    N_EPOCHS = 10\n",
    "    N_BATCH = 8\n",
    "    N_CLASSES = np.unique(Y_train)\n",
    "    scores_train = []\n",
    "    scores_test = []\n",
    "\n",
    "    # EPOCH\n",
    "    epoch = 0\n",
    "    while epoch < N_EPOCHS:\n",
    "        if epoch % 2 == 0 : print('Epoch: ', epoch)\n",
    "        # SHUFFLING\n",
    "        random_perm = np.random.permutation(X_train.shape[0])\n",
    "        mini_batch_index = 0\n",
    "        while True:\n",
    "            # TRAIN ON MINI-BATCH\n",
    "            indices = random_perm[mini_batch_index:mini_batch_index + N_BATCH]\n",
    "            model.partial_fit(X_train[indices], Y_train[indices], classes=N_CLASSES)\n",
    "            mini_batch_index += N_BATCH\n",
    "            if mini_batch_index >= N_TRAIN_SAMPLES:\n",
    "                break\n",
    "\n",
    "        metrics = {}\n",
    "        predictions = model.predict(X_val)\n",
    "        metrics['Accuracy'] = accuracy_score(Y_val, predictions)\n",
    "        metrics['Precision'] = precision_score(Y_val, predictions, average='macro')\n",
    "        metrics['Recall'] = recall_score(Y_val, predictions, average='macro')\n",
    "        metrics['Loss'] = model.loss_\n",
    "        # 2. Enregistrement de plusieurs métriques pour une epoch donnée\n",
    "        mlflow.log_metrics(metrics, step=epoch)\n",
    "        time.sleep(3)\n",
    "\n",
    "        epoch += 1"
   ]
  },
  {
   "cell_type": "markdown",
   "metadata": {},
   "source": [
    "Revenez sur le tableau des runs dans le dashboard et ouvrez le run que nous venons de créer. En cliquant sur l'une des métriques, vous pourrez voir son évolution au cours de l'apprentissage du réseau de neurones."
   ]
  },
  {
   "cell_type": "markdown",
   "metadata": {},
   "source": [
    "# (OPTIONAL\n",
    ") 5. Un exercice d'application des temps d'attente"
   ]
  },
  {
   "cell_type": "markdown",
   "metadata": {},
   "source": [
    "\n",
    "Pour finir, je vous propose un exercice d'application sur le thème d'un parc d'attraction, qui regroupera tout ce que nous avons appris ici.\n",
    "\n",
    "Pour cela nous allons étudier les temps d'attente de 3 attractions sur 10 jours d'avril  \n",
    "FYI : les données on été choquées avec une uniforme pour qu'elles ne représentent pas totalement la réalité"
   ]
  },
  {
   "cell_type": "code",
   "execution_count": null,
   "metadata": {},
   "outputs": [],
   "source": [
    "wait_df = pd.read_csv('wait.csv')\n",
    "wait_df = wait_df.sort_values(\"start\").reset_index()\n",
    "# on enleve les 10 derniers elements de chaque groupe\n",
    "result1 = wait_df.drop(wait_df.groupby('attraction').tail(10).index, axis=0)"
   ]
  },
  {
   "cell_type": "code",
   "execution_count": null,
   "metadata": {},
   "outputs": [],
   "source": [
    "df = wait_df.drop_duplicates()\n",
    "plt.figure(figsize=(8,6))\n",
    "plt.plot(df.start, df.waiting_time)\n",
    "plt.title(\"temps d'attente sur une attraction en avril 2022\")\n",
    "plt.ylabel('temps (min)')\n",
    "plt.xticks(df.start.values[::300], rotation=45)\n",
    "plt.show()"
   ]
  },
  {
   "cell_type": "markdown",
   "metadata": {},
   "source": [
    "Créez au moins 3 modèles de prévisions des temps d'attente pour `l'attraction_2` uniquement et sur les 30 dernières periodes du dataframe disponible\n",
    "Ajoutez au moins 3 métriques pour évaluer les performances de vos modèles  \n",
    "Pour chaque métrique, évaluez là sur l'ensemble de votre prévision, mais aussi sur chacune des échéances (T1, ..., Tk) afin de tracer dans MLFlow la courbe d'évolution de cette métrique.  \n",
    "Enregistrez tout cela dans MLFlow, dans une nouvelle expérience.  \n",
    "conseil : persistence, lag et forecast "
   ]
  },
  {
   "cell_type": "code",
   "execution_count": null,
   "metadata": {},
   "outputs": [],
   "source": [
    "# AJOUTEZ VOTRE CODE ICI"
   ]
  }
 ],
 "metadata": {
  "kernelspec": {
   "display_name": "Python 3 (ipykernel)",
   "language": "python",
   "name": "python3"
  },
  "language_info": {
   "codemirror_mode": {
    "name": "ipython",
    "version": 3
   },
   "file_extension": ".py",
   "mimetype": "text/x-python",
   "name": "python",
   "nbconvert_exporter": "python",
   "pygments_lexer": "ipython3",
   "version": "3.10.7"
  },
  "vscode": {
   "interpreter": {
    "hash": "d56449fddd92a32e29a3fa1d3dd6cedd3c8f80e8884ba77135626f09367c4ca8"
   }
  }
 },
 "nbformat": 4,
 "nbformat_minor": 2
}
